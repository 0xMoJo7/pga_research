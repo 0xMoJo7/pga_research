{
 "cells": [
  {
   "cell_type": "code",
   "execution_count": 1,
   "metadata": {},
   "outputs": [],
   "source": [
    "import pandas as pd\n",
    "import numpy as np\n",
    "import matplotlib.pyplot as plt\n",
    "from sklearn.metrics import mean_squared_error, r2_score\n",
    "from sklearn.ensemble import RandomForestRegressor\n",
    "import re"
   ]
  },
  {
   "cell_type": "code",
   "execution_count": 2,
   "metadata": {},
   "outputs": [],
   "source": [
    "df = pd.read_csv('pga_stats.csv', low_memory=False)"
   ]
  },
  {
   "cell_type": "code",
   "execution_count": 3,
   "metadata": {},
   "outputs": [
    {
     "data": {
      "text/html": [
       "<div>\n",
       "<style scoped>\n",
       "    .dataframe tbody tr th:only-of-type {\n",
       "        vertical-align: middle;\n",
       "    }\n",
       "\n",
       "    .dataframe tbody tr th {\n",
       "        vertical-align: top;\n",
       "    }\n",
       "\n",
       "    .dataframe thead th {\n",
       "        text-align: right;\n",
       "    }\n",
       "</style>\n",
       "<table border=\"1\" class=\"dataframe\">\n",
       "  <thead>\n",
       "    <tr style=\"text-align: right;\">\n",
       "      <th></th>\n",
       "      <th>Player Name</th>\n",
       "      <th>Approach__200_yards_RTP_Score_ROUNDS</th>\n",
       "      <th>Approach__200_yards_RTP_Score_AVG RTP</th>\n",
       "      <th>Approaches_100-125_yards-Rgh_RTP_ROUNDS</th>\n",
       "      <th>Approaches_100-125_yards-Rgh_RTP_AVG RTP</th>\n",
       "      <th>Approaches_50-75_yards-Rgh_RTP_ROUNDS</th>\n",
       "      <th>Approaches_50-75_yards-Rgh_RTP_AVG RTP</th>\n",
       "      <th>Approaches_from_125-150_yards_ROUNDS</th>\n",
       "      <th>Approaches_from_125-150_yards_AVG</th>\n",
       "      <th>Approaches_from_125-150_yards_TOTAL DISTANCE (FEET)</th>\n",
       "      <th>...</th>\n",
       "      <th>Average_Distance_of_Eagle_putts_made_TOT DIST (FT)</th>\n",
       "      <th>Average_Distance_of_Eagle_putts_made_TOT EAGLES PUTTS MADE.</th>\n",
       "      <th>Average_Distance_of_Eagle_putts_made_LONGEST MADE (FT)</th>\n",
       "      <th>Average_Distance_of_Eagle_putts_made_SHORTEST MADE (FT)</th>\n",
       "      <th>Approach_Putt_Performance_ROUNDS</th>\n",
       "      <th>Approach_Putt_Performance_VALUE</th>\n",
       "      <th>Approach_Putt_Performance_ATTEMPTS</th>\n",
       "      <th>Approach_Putt_Performance_TOTAL DISTANCE (FEET)</th>\n",
       "      <th>Putts_made_Distance_EVENTS</th>\n",
       "      <th>Putts_made_Distance_DISTANCE IN INCHES</th>\n",
       "    </tr>\n",
       "  </thead>\n",
       "  <tbody>\n",
       "    <tr>\n",
       "      <th>0</th>\n",
       "      <td>Shane Lowry</td>\n",
       "      <td>52.0</td>\n",
       "      <td>-0.322</td>\n",
       "      <td>52.0</td>\n",
       "      <td>-.167</td>\n",
       "      <td>52.0</td>\n",
       "      <td>+.200</td>\n",
       "      <td>52.0</td>\n",
       "      <td>24' 7\"</td>\n",
       "      <td>1993.417</td>\n",
       "      <td>...</td>\n",
       "      <td>NaN</td>\n",
       "      <td>NaN</td>\n",
       "      <td>NaN</td>\n",
       "      <td>NaN</td>\n",
       "      <td>NaN</td>\n",
       "      <td>NaN</td>\n",
       "      <td>NaN</td>\n",
       "      <td>NaN</td>\n",
       "      <td>NaN</td>\n",
       "      <td>NaN</td>\n",
       "    </tr>\n",
       "    <tr>\n",
       "      <th>1</th>\n",
       "      <td>Nick Watney</td>\n",
       "      <td>75.0</td>\n",
       "      <td>-0.279</td>\n",
       "      <td>75.0</td>\n",
       "      <td>+.081</td>\n",
       "      <td>75.0</td>\n",
       "      <td>+.375</td>\n",
       "      <td>75.0</td>\n",
       "      <td>23' 0\"</td>\n",
       "      <td>3130.167</td>\n",
       "      <td>...</td>\n",
       "      <td>NaN</td>\n",
       "      <td>NaN</td>\n",
       "      <td>NaN</td>\n",
       "      <td>NaN</td>\n",
       "      <td>NaN</td>\n",
       "      <td>NaN</td>\n",
       "      <td>NaN</td>\n",
       "      <td>NaN</td>\n",
       "      <td>NaN</td>\n",
       "      <td>NaN</td>\n",
       "    </tr>\n",
       "    <tr>\n",
       "      <th>2</th>\n",
       "      <td>Matt Jones</td>\n",
       "      <td>64.0</td>\n",
       "      <td>-0.27</td>\n",
       "      <td>64.0</td>\n",
       "      <td>+.069</td>\n",
       "      <td>64.0</td>\n",
       "      <td>+.231</td>\n",
       "      <td>64.0</td>\n",
       "      <td>24' 10\"</td>\n",
       "      <td>2806.333</td>\n",
       "      <td>...</td>\n",
       "      <td>NaN</td>\n",
       "      <td>NaN</td>\n",
       "      <td>NaN</td>\n",
       "      <td>NaN</td>\n",
       "      <td>NaN</td>\n",
       "      <td>NaN</td>\n",
       "      <td>NaN</td>\n",
       "      <td>NaN</td>\n",
       "      <td>NaN</td>\n",
       "      <td>NaN</td>\n",
       "    </tr>\n",
       "  </tbody>\n",
       "</table>\n",
       "<p>3 rows × 1167 columns</p>\n",
       "</div>"
      ],
      "text/plain": [
       "   Player Name  Approach__200_yards_RTP_Score_ROUNDS  \\\n",
       "0  Shane Lowry                                  52.0   \n",
       "1  Nick Watney                                  75.0   \n",
       "2   Matt Jones                                  64.0   \n",
       "\n",
       "  Approach__200_yards_RTP_Score_AVG RTP  \\\n",
       "0                                -0.322   \n",
       "1                                -0.279   \n",
       "2                                 -0.27   \n",
       "\n",
       "   Approaches_100-125_yards-Rgh_RTP_ROUNDS  \\\n",
       "0                                     52.0   \n",
       "1                                     75.0   \n",
       "2                                     64.0   \n",
       "\n",
       "  Approaches_100-125_yards-Rgh_RTP_AVG RTP  \\\n",
       "0                                    -.167   \n",
       "1                                    +.081   \n",
       "2                                    +.069   \n",
       "\n",
       "   Approaches_50-75_yards-Rgh_RTP_ROUNDS  \\\n",
       "0                                   52.0   \n",
       "1                                   75.0   \n",
       "2                                   64.0   \n",
       "\n",
       "  Approaches_50-75_yards-Rgh_RTP_AVG RTP  \\\n",
       "0                                  +.200   \n",
       "1                                  +.375   \n",
       "2                                  +.231   \n",
       "\n",
       "   Approaches_from_125-150_yards_ROUNDS Approaches_from_125-150_yards_AVG  \\\n",
       "0                                  52.0                            24' 7\"   \n",
       "1                                  75.0                            23' 0\"   \n",
       "2                                  64.0                           24' 10\"   \n",
       "\n",
       "   Approaches_from_125-150_yards_TOTAL DISTANCE (FEET)  ...  \\\n",
       "0                                           1993.417    ...   \n",
       "1                                           3130.167    ...   \n",
       "2                                           2806.333    ...   \n",
       "\n",
       "   Average_Distance_of_Eagle_putts_made_TOT DIST (FT)  \\\n",
       "0                                                NaN    \n",
       "1                                                NaN    \n",
       "2                                                NaN    \n",
       "\n",
       "  Average_Distance_of_Eagle_putts_made_TOT EAGLES PUTTS MADE.  \\\n",
       "0                                                NaN            \n",
       "1                                                NaN            \n",
       "2                                                NaN            \n",
       "\n",
       "   Average_Distance_of_Eagle_putts_made_LONGEST MADE (FT)  \\\n",
       "0                                                NaN        \n",
       "1                                                NaN        \n",
       "2                                                NaN        \n",
       "\n",
       "   Average_Distance_of_Eagle_putts_made_SHORTEST MADE (FT)  \\\n",
       "0                                                NaN         \n",
       "1                                                NaN         \n",
       "2                                                NaN         \n",
       "\n",
       "   Approach_Putt_Performance_ROUNDS  Approach_Putt_Performance_VALUE  \\\n",
       "0                               NaN                              NaN   \n",
       "1                               NaN                              NaN   \n",
       "2                               NaN                              NaN   \n",
       "\n",
       "  Approach_Putt_Performance_ATTEMPTS  \\\n",
       "0                                NaN   \n",
       "1                                NaN   \n",
       "2                                NaN   \n",
       "\n",
       "   Approach_Putt_Performance_TOTAL DISTANCE (FEET) Putts_made_Distance_EVENTS  \\\n",
       "0                                              NaN                        NaN   \n",
       "1                                              NaN                        NaN   \n",
       "2                                              NaN                        NaN   \n",
       "\n",
       "   Putts_made_Distance_DISTANCE IN INCHES  \n",
       "0                                     NaN  \n",
       "1                                     NaN  \n",
       "2                                     NaN  \n",
       "\n",
       "[3 rows x 1167 columns]"
      ]
     },
     "execution_count": 3,
     "metadata": {},
     "output_type": "execute_result"
    }
   ],
   "source": [
    "df.head(3)"
   ]
  },
  {
   "cell_type": "code",
   "execution_count": 4,
   "metadata": {},
   "outputs": [
    {
     "name": "stdout",
     "output_type": "stream",
     "text": [
      "<class 'pandas.core.frame.DataFrame'>\n",
      "RangeIndex: 4960 entries, 0 to 4959\n",
      "Columns: 1167 entries, Player Name to Putts_made_Distance_DISTANCE IN INCHES\n",
      "dtypes: float64(1004), int64(1), object(162)\n",
      "memory usage: 44.2+ MB\n"
     ]
    }
   ],
   "source": [
    "df.info()"
   ]
  },
  {
   "cell_type": "code",
   "execution_count": 5,
   "metadata": {},
   "outputs": [
    {
     "data": {
      "text/plain": [
       "'Null Values: 4638977'"
      ]
     },
     "execution_count": 5,
     "metadata": {},
     "output_type": "execute_result"
    }
   ],
   "source": [
    "f'Null Values: {df.isna().sum().sum()}'"
   ]
  },
  {
   "cell_type": "code",
   "execution_count": 6,
   "metadata": {},
   "outputs": [],
   "source": [
    "df = df.dropna(thresh=500)\n",
    "df = df.dropna(thresh=500, axis=1)"
   ]
  },
  {
   "cell_type": "code",
   "execution_count": null,
   "metadata": {},
   "outputs": [],
   "source": [
    "import util\n",
    "df.loc[:,df.dtypes == object] = df.loc[:,df.dtypes == object].applymap(util.make_numeric)\n",
    "df.loc[:,df.dtypes == object] = df.loc[:,df.dtypes == object].applymap(lambda df:  0 if df=='E' else df)"
   ]
  },
  {
   "cell_type": "code",
   "execution_count": null,
   "metadata": {},
   "outputs": [],
   "source": [
    "df.columns"
   ]
  },
  {
   "cell_type": "code",
   "execution_count": null,
   "metadata": {},
   "outputs": [],
   "source": [
    "df = df.fillna(df.mean())\n",
    "\n",
    "players = df.loc[:,'Player Name']\n",
    "df = df.drop('Player Name', axis=1)\n",
    "\n",
    "# Drop Object Columns that did not convert\n",
    "df = df.drop(df.loc[:,df.dtypes == object], axis=1)"
   ]
  },
  {
   "cell_type": "code",
   "execution_count": null,
   "metadata": {},
   "outputs": [],
   "source": [
    "f'Null Values: {df.isna().sum().sum()}'"
   ]
  },
  {
   "cell_type": "code",
   "execution_count": null,
   "metadata": {},
   "outputs": [],
   "source": [
    "df.columns"
   ]
  },
  {
   "cell_type": "code",
   "execution_count": null,
   "metadata": {},
   "outputs": [],
   "source": [
    "ranking = pd.read_csv(r'data/2018/POINTSRANKINGS/All-Around_Ranking.csv')\n",
    "ranking['All-Around_Ranking_RANK LAST WEEK'] = ranking['All-Around_Ranking_RANK LAST WEEK'].str.replace('T','').map(int)\n",
    "ranking.plot(kind='scatter', x='All-Around_Ranking_RANK LAST WEEK', y='All-Around_Ranking_TOTAL', figsize=(16,6));"
   ]
  },
  {
   "cell_type": "code",
   "execution_count": null,
   "metadata": {},
   "outputs": [],
   "source": [
    "ranking['All-Around_Ranking_TOTAL'].plot(kind='hist', figsize=(16,6));"
   ]
  },
  {
   "cell_type": "code",
   "execution_count": null,
   "metadata": {},
   "outputs": [],
   "source": [
    "target = df[['All-Around_Ranking_TOTAL', 'Year']]\n",
    "feature = df.drop('All-Around_Ranking_TOTAL', axis=1)\n",
    "\n",
    "feature_train = feature[~feature['Year'].isin([2018])]\n",
    "target_train = target[~target['Year'].isin([2018])]['All-Around_Ranking_TOTAL']\n",
    "\n",
    "feature_test = feature[feature['Year'].isin([2018])]\n",
    "target_test = target[target['Year'].isin([2018])]['All-Around_Ranking_TOTAL']\n",
    "\n",
    "rfr = RandomForestRegressor(n_estimators=50, n_jobs=-1)\n",
    "rfr.fit(feature_train, target_train)\n",
    "target_predict = rfr.predict(feature_test)\n",
    "\n",
    "print('Random Forest Results:')\n",
    "print(f'R Squared: {r2_score(target_test, target_predict)}')\n",
    "print(f'Root Mean Squared Error: {np.sqrt(mean_squared_error(target_test, target_predict))}')\n",
    "\n",
    "target_mean = target_test.map(lambda x: target_test.mean())\n",
    "\n",
    "print('Mean Model Results:')\n",
    "print(f'R Squared: {r2_score(target_test, target_mean)}')\n",
    "print(f'Root Mean Squared Error: {np.sqrt(mean_squared_error(target_test, target_mean))}')\n",
    "\n",
    "feature_importance_df = pd.DataFrame({'feature': feature_train.columns, 'importance': rfr.feature_importances_})\n",
    "feature_importance_df = feature_importance_df.sort_values('importance', ascending=False)"
   ]
  },
  {
   "cell_type": "code",
   "execution_count": null,
   "metadata": {},
   "outputs": [],
   "source": [
    "df = feature_importance_df.sort_values('importance', ascending=False).reset_index()\n",
    "\n",
    "df['importance_normalized'] = df['importance'] / df['importance'].sum()\n",
    "df['cumulative_importance'] = np.cumsum(df['importance_normalized'])\n",
    "\n",
    "plt.figure(figsize=(10, 6))\n",
    "ax = plt.subplot()\n",
    "\n",
    "ax.barh(list(reversed(list(df.index[:15]))),\n",
    "        df['importance_normalized'].head(15),\n",
    "        align='center', edgecolor='k')\n",
    "\n",
    "ax.set_yticks(list(reversed(list(df.index[:15]))))\n",
    "ax.set_yticklabels(df['feature'].head(15))\n",
    "\n",
    "plt.xlabel('Normalized Importance')\n",
    "plt.title('Feature Importances')\n",
    "plt.show()\n",
    "\n",
    "plt.figure(figsize=(8, 6))\n",
    "plt.plot(list(range(len(df))), df['cumulative_importance'], 'r-')\n",
    "plt.xlabel('Number of feature')\n",
    "plt.ylabel('Cumulative Importance')\n",
    "plt.title('Cumulative Feature Importance')\n",
    "plt.show()\n",
    "\n",
    "threshold = .7\n",
    "\n",
    "importance_index = np.min(np.where(df['cumulative_importance'] > threshold))\n",
    "print('%d feature required for %0.2f of cumulative importance' % (importance_index + 1, threshold))"
   ]
  },
  {
   "cell_type": "code",
   "execution_count": null,
   "metadata": {},
   "outputs": [],
   "source": []
  }
 ],
 "metadata": {
  "kernelspec": {
   "display_name": "Python 3",
   "language": "python",
   "name": "python3"
  },
  "language_info": {
   "codemirror_mode": {
    "name": "ipython",
    "version": 3
   },
   "file_extension": ".py",
   "mimetype": "text/x-python",
   "name": "python",
   "nbconvert_exporter": "python",
   "pygments_lexer": "ipython3",
   "version": "3.6.7"
  }
 },
 "nbformat": 4,
 "nbformat_minor": 2
}
