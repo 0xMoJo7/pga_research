{
 "cells": [
  {
   "cell_type": "code",
   "execution_count": 1,
   "metadata": {},
   "outputs": [],
   "source": [
    "import pandas as pd\n",
    "import numpy as np\n",
    "import matplotlib.pyplot as plt\n",
    "from sklearn.metrics import mean_squared_error, r2_score\n",
    "from sklearn.ensemble import RandomForestRegressor\n",
    "import re"
   ]
  },
  {
   "cell_type": "code",
   "execution_count": 2,
   "metadata": {},
   "outputs": [],
   "source": [
    "df = pd.read_csv('pga_stats.csv', low_memory=False)"
   ]
  },
  {
   "cell_type": "code",
   "execution_count": 3,
   "metadata": {},
   "outputs": [
    {
     "data": {
      "text/html": [
       "<div>\n",
       "<style scoped>\n",
       "    .dataframe tbody tr th:only-of-type {\n",
       "        vertical-align: middle;\n",
       "    }\n",
       "\n",
       "    .dataframe tbody tr th {\n",
       "        vertical-align: top;\n",
       "    }\n",
       "\n",
       "    .dataframe thead th {\n",
       "        text-align: right;\n",
       "    }\n",
       "</style>\n",
       "<table border=\"1\" class=\"dataframe\">\n",
       "  <thead>\n",
       "    <tr style=\"text-align: right;\">\n",
       "      <th></th>\n",
       "      <th>Player Name</th>\n",
       "      <th>Putting_from_6_ROUNDS</th>\n",
       "      <th>Putting_from_6_% MADE</th>\n",
       "      <th>Putting_from_6_ATTEMPTS</th>\n",
       "      <th>Putting_from_6_PUTTS MADE</th>\n",
       "      <th>Total_3_Putts_-_10-15_ROUNDS</th>\n",
       "      <th>Total_3_Putts_-_10-15_TOTAL 3 PUTTS 10'-15'</th>\n",
       "      <th>Total_3_Putts_-_10-15_TOTAL 3 PUTTS</th>\n",
       "      <th>Putting_from_-__25_ROUNDS</th>\n",
       "      <th>Putting_from_-__25_% MADE</th>\n",
       "      <th>...</th>\n",
       "      <th>Year</th>\n",
       "      <th>Putts_per_Round_-_Round_5_AVG</th>\n",
       "      <th>Putts_per_Round_-_Round_5_TOTAL PUTTS</th>\n",
       "      <th>Putts_per_Round_-_Round_5_TOTAL ROUNDS</th>\n",
       "      <th>One-Putt_Percentage_-_Round_5_%</th>\n",
       "      <th>One-Putt_Percentage_-_Round_5_# OF 1 PUTTS</th>\n",
       "      <th>One-Putt_Percentage_-_Round_5_# OF HOLES</th>\n",
       "      <th>3-Putt_Avoidance_-_Round_5_%</th>\n",
       "      <th>3-Putt_Avoidance_-_Round_5_TOTAL 3 PUTTS</th>\n",
       "      <th>3-Putt_Avoidance_-_Round_5_TOTAL HOLES</th>\n",
       "    </tr>\n",
       "  </thead>\n",
       "  <tbody>\n",
       "    <tr>\n",
       "      <th>0</th>\n",
       "      <td>Martin Piller</td>\n",
       "      <td>30.0</td>\n",
       "      <td>87.50</td>\n",
       "      <td>24.0</td>\n",
       "      <td>21.0</td>\n",
       "      <td>NaN</td>\n",
       "      <td>NaN</td>\n",
       "      <td>NaN</td>\n",
       "      <td>30.0</td>\n",
       "      <td>4.55</td>\n",
       "      <td>...</td>\n",
       "      <td>2019</td>\n",
       "      <td>NaN</td>\n",
       "      <td>NaN</td>\n",
       "      <td>NaN</td>\n",
       "      <td>NaN</td>\n",
       "      <td>NaN</td>\n",
       "      <td>NaN</td>\n",
       "      <td>NaN</td>\n",
       "      <td>NaN</td>\n",
       "      <td>NaN</td>\n",
       "    </tr>\n",
       "    <tr>\n",
       "      <th>1</th>\n",
       "      <td>Jonathan Byrd</td>\n",
       "      <td>43.0</td>\n",
       "      <td>86.67</td>\n",
       "      <td>30.0</td>\n",
       "      <td>26.0</td>\n",
       "      <td>43.0</td>\n",
       "      <td>1.0</td>\n",
       "      <td>17.0</td>\n",
       "      <td>43.0</td>\n",
       "      <td>2.50</td>\n",
       "      <td>...</td>\n",
       "      <td>2019</td>\n",
       "      <td>NaN</td>\n",
       "      <td>NaN</td>\n",
       "      <td>NaN</td>\n",
       "      <td>NaN</td>\n",
       "      <td>NaN</td>\n",
       "      <td>NaN</td>\n",
       "      <td>NaN</td>\n",
       "      <td>NaN</td>\n",
       "      <td>NaN</td>\n",
       "    </tr>\n",
       "    <tr>\n",
       "      <th>2</th>\n",
       "      <td>Michael Kim</td>\n",
       "      <td>51.0</td>\n",
       "      <td>86.49</td>\n",
       "      <td>37.0</td>\n",
       "      <td>32.0</td>\n",
       "      <td>NaN</td>\n",
       "      <td>NaN</td>\n",
       "      <td>NaN</td>\n",
       "      <td>51.0</td>\n",
       "      <td>3.97</td>\n",
       "      <td>...</td>\n",
       "      <td>2019</td>\n",
       "      <td>NaN</td>\n",
       "      <td>NaN</td>\n",
       "      <td>NaN</td>\n",
       "      <td>NaN</td>\n",
       "      <td>NaN</td>\n",
       "      <td>NaN</td>\n",
       "      <td>NaN</td>\n",
       "      <td>NaN</td>\n",
       "      <td>NaN</td>\n",
       "    </tr>\n",
       "  </tbody>\n",
       "</table>\n",
       "<p>3 rows × 1167 columns</p>\n",
       "</div>"
      ],
      "text/plain": [
       "     Player Name  Putting_from_6_ROUNDS  Putting_from_6_% MADE  \\\n",
       "0  Martin Piller                   30.0                  87.50   \n",
       "1  Jonathan Byrd                   43.0                  86.67   \n",
       "2    Michael Kim                   51.0                  86.49   \n",
       "\n",
       "   Putting_from_6_ATTEMPTS  Putting_from_6_PUTTS MADE  \\\n",
       "0                     24.0                       21.0   \n",
       "1                     30.0                       26.0   \n",
       "2                     37.0                       32.0   \n",
       "\n",
       "   Total_3_Putts_-_10-15_ROUNDS  Total_3_Putts_-_10-15_TOTAL 3 PUTTS 10'-15'  \\\n",
       "0                           NaN                                          NaN   \n",
       "1                          43.0                                          1.0   \n",
       "2                           NaN                                          NaN   \n",
       "\n",
       "   Total_3_Putts_-_10-15_TOTAL 3 PUTTS  Putting_from_-__25_ROUNDS  \\\n",
       "0                                  NaN                       30.0   \n",
       "1                                 17.0                       43.0   \n",
       "2                                  NaN                       51.0   \n",
       "\n",
       "   Putting_from_-__25_% MADE  ...  Year  Putts_per_Round_-_Round_5_AVG  \\\n",
       "0                       4.55  ...  2019                            NaN   \n",
       "1                       2.50  ...  2019                            NaN   \n",
       "2                       3.97  ...  2019                            NaN   \n",
       "\n",
       "   Putts_per_Round_-_Round_5_TOTAL PUTTS  \\\n",
       "0                                    NaN   \n",
       "1                                    NaN   \n",
       "2                                    NaN   \n",
       "\n",
       "   Putts_per_Round_-_Round_5_TOTAL ROUNDS  One-Putt_Percentage_-_Round_5_%  \\\n",
       "0                                     NaN                              NaN   \n",
       "1                                     NaN                              NaN   \n",
       "2                                     NaN                              NaN   \n",
       "\n",
       "   One-Putt_Percentage_-_Round_5_# OF 1 PUTTS  \\\n",
       "0                                         NaN   \n",
       "1                                         NaN   \n",
       "2                                         NaN   \n",
       "\n",
       "   One-Putt_Percentage_-_Round_5_# OF HOLES  3-Putt_Avoidance_-_Round_5_%  \\\n",
       "0                                       NaN                           NaN   \n",
       "1                                       NaN                           NaN   \n",
       "2                                       NaN                           NaN   \n",
       "\n",
       "   3-Putt_Avoidance_-_Round_5_TOTAL 3 PUTTS  \\\n",
       "0                                       NaN   \n",
       "1                                       NaN   \n",
       "2                                       NaN   \n",
       "\n",
       "   3-Putt_Avoidance_-_Round_5_TOTAL HOLES  \n",
       "0                                     NaN  \n",
       "1                                     NaN  \n",
       "2                                     NaN  \n",
       "\n",
       "[3 rows x 1167 columns]"
      ]
     },
     "execution_count": 3,
     "metadata": {},
     "output_type": "execute_result"
    }
   ],
   "source": [
    "df.head(3)"
   ]
  },
  {
   "cell_type": "code",
   "execution_count": 4,
   "metadata": {},
   "outputs": [
    {
     "name": "stdout",
     "output_type": "stream",
     "text": [
      "<class 'pandas.core.frame.DataFrame'>\n",
      "RangeIndex: 4960 entries, 0 to 4959\n",
      "Columns: 1167 entries, Player Name to 3-Putt_Avoidance_-_Round_5_TOTAL HOLES\n",
      "dtypes: float64(1004), int64(1), object(162)\n",
      "memory usage: 44.2+ MB\n"
     ]
    }
   ],
   "source": [
    "df.info()"
   ]
  },
  {
   "cell_type": "code",
   "execution_count": 5,
   "metadata": {},
   "outputs": [
    {
     "data": {
      "text/plain": [
       "'Null Values: 4623040'"
      ]
     },
     "execution_count": 5,
     "metadata": {},
     "output_type": "execute_result"
    }
   ],
   "source": [
    "f'Null Values: {df.isna().sum().sum()}'"
   ]
  },
  {
   "cell_type": "code",
   "execution_count": 6,
   "metadata": {},
   "outputs": [],
   "source": [
    "df = df.dropna(thresh=500)\n",
    "df = df.dropna(thresh=500, axis=1)"
   ]
  },
  {
   "cell_type": "code",
   "execution_count": 7,
   "metadata": {},
   "outputs": [],
   "source": [
    "import util\n",
    "df.loc[:,df.dtypes == object] = df.loc[:,df.dtypes == object].applymap(util.make_numeric)\n",
    "df.loc[:,df.dtypes == object] = df.loc[:,df.dtypes == object].applymap(lambda df:  0 if df=='E' else df)"
   ]
  },
  {
   "cell_type": "code",
   "execution_count": 8,
   "metadata": {},
   "outputs": [
    {
     "data": {
      "text/plain": [
       "Index(['Player Name', 'Putting_from_6_ROUNDS', 'Putting_from_6_% MADE',\n",
       "       'Putting_from_6_ATTEMPTS', 'Putting_from_6_PUTTS MADE',\n",
       "       'Total_3_Putts_-_10-15_ROUNDS',\n",
       "       'Total_3_Putts_-_10-15_TOTAL 3 PUTTS 10'-15'',\n",
       "       'Total_3_Putts_-_10-15_TOTAL 3 PUTTS', 'Putting_from_-__25_ROUNDS',\n",
       "       'Putting_from_-__25_% MADE',\n",
       "       ...\n",
       "       'Average_Approach_Distance_-_Bogey_or_Worse_AVG (YARDS)',\n",
       "       'Average_Approach_Distance_-_Bogey_or_Worse_TOTAL DISTANCE (INCHES)',\n",
       "       'Average_Approach_Distance_-_Bogey_or_Worse_NUMBER OF APPROACH SHOTS',\n",
       "       'GIR_Percentage_from_Fairway_ROUNDS', 'GIR_Percentage_from_Fairway_%',\n",
       "       'GIR_Percentage_from_Fairway_GREENS HIT',\n",
       "       'GIR_Percentage_from_Fairway_# OF HOLES',\n",
       "       'Approach_225-250_yards_RTP_ROUNDS',\n",
       "       'Approach_225-250_yards_RTP_AVG RTP', 'Year'],\n",
       "      dtype='object', length=1136)"
      ]
     },
     "execution_count": 8,
     "metadata": {},
     "output_type": "execute_result"
    }
   ],
   "source": [
    "df.columns"
   ]
  },
  {
   "cell_type": "code",
   "execution_count": 9,
   "metadata": {},
   "outputs": [],
   "source": [
    "df = df.fillna(df.mean())\n",
    "\n",
    "players = df.loc[:,'Player Name']\n",
    "df = df.drop('Player Name', axis=1)\n",
    "\n",
    "# Drop Object Columns that did not convert\n",
    "df = df.drop(df.loc[:,df.dtypes == object], axis=1)"
   ]
  },
  {
   "cell_type": "code",
   "execution_count": 10,
   "metadata": {},
   "outputs": [
    {
     "data": {
      "text/plain": [
       "'Null Values: 0'"
      ]
     },
     "execution_count": 10,
     "metadata": {},
     "output_type": "execute_result"
    }
   ],
   "source": [
    "f'Null Values: {df.isna().sum().sum()}'"
   ]
  },
  {
   "cell_type": "code",
   "execution_count": 11,
   "metadata": {},
   "outputs": [
    {
     "data": {
      "text/plain": [
       "Index(['Putting_from_6_ROUNDS', 'Putting_from_6_% MADE',\n",
       "       'Putting_from_6_ATTEMPTS', 'Putting_from_6_PUTTS MADE',\n",
       "       'Total_3_Putts_-_10-15_ROUNDS',\n",
       "       'Total_3_Putts_-_10-15_TOTAL 3 PUTTS 10'-15'',\n",
       "       'Total_3_Putts_-_10-15_TOTAL 3 PUTTS', 'Putting_from_-__25_ROUNDS',\n",
       "       'Putting_from_-__25_% MADE', 'Putting_from_-__25_ATTEMPTS',\n",
       "       ...\n",
       "       'Average_Approach_Distance_-_Bogey_or_Worse_AVG (YARDS)',\n",
       "       'Average_Approach_Distance_-_Bogey_or_Worse_TOTAL DISTANCE (INCHES)',\n",
       "       'Average_Approach_Distance_-_Bogey_or_Worse_NUMBER OF APPROACH SHOTS',\n",
       "       'GIR_Percentage_from_Fairway_ROUNDS', 'GIR_Percentage_from_Fairway_%',\n",
       "       'GIR_Percentage_from_Fairway_GREENS HIT',\n",
       "       'GIR_Percentage_from_Fairway_# OF HOLES',\n",
       "       'Approach_225-250_yards_RTP_ROUNDS',\n",
       "       'Approach_225-250_yards_RTP_AVG RTP', 'Year'],\n",
       "      dtype='object', length=1132)"
      ]
     },
     "execution_count": 11,
     "metadata": {},
     "output_type": "execute_result"
    }
   ],
   "source": [
    "df.columns"
   ]
  },
  {
   "cell_type": "code",
   "execution_count": 12,
   "metadata": {},
   "outputs": [
    {
     "data": {
      "image/png": "[encoded data removed]",
      "text/plain": [
       "<Figure size 1152x432 with 1 Axes>"
      ]
     },
     "metadata": {},
     "output_type": "display_data"
    }
   ],
   "source": [
    "ranking = pd.read_csv(r'data/2018/POINTSRANKINGS/All-Around_Ranking.csv')\n",
    "ranking['All-Around_Ranking_RANK LAST WEEK'] = ranking['All-Around_Ranking_RANK LAST WEEK'].str.replace('T','').map(int)\n",
    "ranking.plot(kind='scatter', x='All-Around_Ranking_RANK LAST WEEK', y='All-Around_Ranking_TOTAL', figsize=(16,6));"
   ]
  },
  {
   "cell_type": "code",
   "execution_count": 13,
   "metadata": {},
   "outputs": [
    {
     "data": {
      "image/png": "[encoded data removed]",
      "text/plain": [
       "<Figure size 1152x432 with 1 Axes>"
      ]
     },
     "metadata": {},
     "output_type": "display_data"
    }
   ],
   "source": [
    "ranking['All-Around_Ranking_TOTAL'].plot(kind='hist', figsize=(16,6));"
   ]
  },
  {
   "cell_type": "code",
   "execution_count": 14,
   "metadata": {},
   "outputs": [
    {
     "name": "stdout",
     "output_type": "stream",
     "text": [
      "Random Forest Results:\n",
      "R Squared: 0.8245844967911304\n",
      "Root Mean Squared Error: 99.2545213180364\n",
      "Mean Model Results:\n",
      "R Squared: 0.0\n",
      "Root Mean Squared Error: 236.98251948756112\n"
     ]
    }
   ],
   "source": [
    "target = df[['All-Around_Ranking_TOTAL', 'Year']]\n",
    "feature = df.drop('All-Around_Ranking_TOTAL', axis=1)\n",
    "\n",
    "feature_train = feature[~feature['Year'].isin([2018])]\n",
    "target_train = target[~target['Year'].isin([2018])]['All-Around_Ranking_TOTAL']\n",
    "\n",
    "feature_test = feature[feature['Year'].isin([2018])]\n",
    "target_test = target[target['Year'].isin([2018])]['All-Around_Ranking_TOTAL']\n",
    "\n",
    "rfr = RandomForestRegressor(n_estimators=50, n_jobs=-1)\n",
    "rfr.fit(feature_train, target_train)\n",
    "target_predict = rfr.predict(feature_test)\n",
    "\n",
    "print('Random Forest Results:')\n",
    "print(f'R Squared: {r2_score(target_test, target_predict)}')\n",
    "print(f'Root Mean Squared Error: {np.sqrt(mean_squared_error(target_test, target_predict))}')\n",
    "\n",
    "target_mean = target_test.map(lambda x: target_test.mean())\n",
    "\n",
    "print('Mean Model Results:')\n",
    "print(f'R Squared: {r2_score(target_test, target_mean)}')\n",
    "print(f'Root Mean Squared Error: {np.sqrt(mean_squared_error(target_test, target_mean))}')\n",
    "\n",
    "feature_importance_df = pd.DataFrame({'feature': feature_train.columns, 'importance': rfr.feature_importances_})\n",
    "feature_importance_df = feature_importance_df.sort_values('importance', ascending=False)"
   ]
  },
  {
   "cell_type": "code",
   "execution_count": 15,
   "metadata": {},
   "outputs": [
    {
     "data": {
      "image/png": "[encoded data removed]",
      "text/plain": [
       "<Figure size 720x432 with 1 Axes>"
      ]
     },
     "metadata": {},
     "output_type": "display_data"
    },
    {
     "data": {
      "image/png": "[encoded data removed]",
      "text/plain": [
       "<Figure size 576x432 with 1 Axes>"
      ]
     },
     "metadata": {},
     "output_type": "display_data"
    },
    {
     "name": "stdout",
     "output_type": "stream",
     "text": [
      "7 feature required for 0.70 of cumulative importance\n"
     ]
    }
   ],
   "source": [
    "df = feature_importance_df.sort_values('importance', ascending=False).reset_index()\n",
    "\n",
    "df['importance_normalized'] = df['importance'] / df['importance'].sum()\n",
    "df['cumulative_importance'] = np.cumsum(df['importance_normalized'])\n",
    "\n",
    "plt.figure(figsize=(10, 6))\n",
    "ax = plt.subplot()\n",
    "\n",
    "ax.barh(list(reversed(list(df.index[:15]))),\n",
    "        df['importance_normalized'].head(15),\n",
    "        align='center', edgecolor='k')\n",
    "\n",
    "ax.set_yticks(list(reversed(list(df.index[:15]))))\n",
    "ax.set_yticklabels(df['feature'].head(15))\n",
    "\n",
    "plt.xlabel('Normalized Importance')\n",
    "plt.title('Feature Importances')\n",
    "plt.show()\n",
    "\n",
    "plt.figure(figsize=(8, 6))\n",
    "plt.plot(list(range(len(df))), df['cumulative_importance'], 'r-')\n",
    "plt.xlabel('Number of feature')\n",
    "plt.ylabel('Cumulative Importance')\n",
    "plt.title('Cumulative Feature Importance')\n",
    "plt.show()\n",
    "\n",
    "threshold = .7\n",
    "\n",
    "importance_index = np.min(np.where(df['cumulative_importance'] > threshold))\n",
    "print('%d feature required for %0.2f of cumulative importance' % (importance_index + 1, threshold))"
   ]
  },
  {
   "cell_type": "code",
   "execution_count": null,
   "metadata": {},
   "outputs": [],
   "source": []
  }
 ],
 "metadata": {
  "kernelspec": {
   "display_name": "Python 3",
   "language": "python",
   "name": "python3"
  },
  "language_info": {
   "codemirror_mode": {
    "name": "ipython",
    "version": 3
   },
   "file_extension": ".py",
   "mimetype": "text/x-python",
   "name": "python",
   "nbconvert_exporter": "python",
   "pygments_lexer": "ipython3",
   "version": "3.6.7"
  }
 },
 "nbformat": 4,
 "nbformat_minor": 2
}
